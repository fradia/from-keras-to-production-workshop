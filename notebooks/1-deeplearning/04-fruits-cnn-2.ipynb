{
 "cells": [
  {
   "cell_type": "markdown",
   "metadata": {},
   "source": [
    "# Load libraries"
   ]
  },
  {
   "cell_type": "code",
   "execution_count": 6,
   "metadata": {},
   "outputs": [],
   "source": [
    "import os\n",
    "import cv2\n",
    "from PIL import Image\n",
    "import numpy as np\n",
    "import pandas as pd\n",
    "import random\n",
    "import matplotlib.pyplot as plt\n",
    "%matplotlib inline"
   ]
  },
  {
   "cell_type": "code",
   "execution_count": 7,
   "metadata": {},
   "outputs": [],
   "source": [
    "from keras import *\n",
    "\n",
    "# image processing\n",
    "from keras.preprocessing import image as image_utils\n",
    "from keras.preprocessing.image import img_to_array\n",
    "\n",
    "# build your own nets\n",
    "from keras.preprocessing.image import ImageDataGenerator\n",
    "from keras.models import Sequential\n",
    "from keras.layers import Dense, Dropout, Activation, Flatten, Conv2D, MaxPooling2D\n",
    "from keras.optimizers import RMSprop\n",
    "from keras.layers.normalization import BatchNormalization\n",
    "from keras.layers.advanced_activations import LeakyReLU"
   ]
  },
  {
   "cell_type": "code",
   "execution_count": 8,
   "metadata": {},
   "outputs": [],
   "source": [
    "train_image_files_path = \"/keras2production/fruits/Training/\"\n",
    "test_image_files_path = \"/keras2production/fruits/Test/\""
   ]
  },
  {
   "cell_type": "markdown",
   "metadata": {},
   "source": [
    "# Keras\n",
    "\n",
    "https://keras.io/"
   ]
  },
  {
   "cell_type": "code",
   "execution_count": 9,
   "metadata": {},
   "outputs": [],
   "source": [
    "fruit_list = [\"Apricot\", \"Avocado\", \"Banana\", \"Clementine\", \"Cocos\", \"Kiwi\", \"Lemon\", \"Limes\", \n",
    "              \"Mandarine\", \"Orange\", \"Peach\", \"Pineapple\", \"Plum\", \"Pomegranate\", \"Raspberry\", \"Strawberry\"]\n",
    "output_n = len(fruit_list)\n",
    "size = 20\n",
    "img_width = 20\n",
    "img_height = 20\n",
    "channels = 3\n",
    "batch_size = 32"
   ]
  },
  {
   "cell_type": "code",
   "execution_count": 21,
   "metadata": {},
   "outputs": [
    {
     "name": "stdout",
     "output_type": "stream",
     "text": [
      "Found 5788 images belonging to 16 classes.\n",
      "Found 1921 images belonging to 16 classes.\n"
     ]
    }
   ],
   "source": [
    "train_data_gen = ImageDataGenerator(\n",
    "    rescale = 1 / 255,\n",
    "    validation_split=0.25\n",
    ")\n",
    "\n",
    "train_image_array_gen = train_data_gen.flow_from_directory(\n",
    "    train_image_files_path,\n",
    "    target_size = (img_width, img_height),\n",
    "    class_mode = 'categorical',\n",
    "    classes = fruit_list,\n",
    "    color_mode = 'rgb', \n",
    "    batch_size = batch_size,\n",
    "    subset='training',\n",
    "    seed = 42)\n",
    "\n",
    "valid_image_array_gen = train_data_gen.flow_from_directory(\n",
    "    train_image_files_path,\n",
    "    target_size = (img_width, img_height),\n",
    "    class_mode = 'categorical',\n",
    "    classes = fruit_list,\n",
    "    color_mode = 'rgb', \n",
    "    batch_size = batch_size,\n",
    "    subset='validation',\n",
    "    seed = 42)"
   ]
  },
  {
   "cell_type": "code",
   "execution_count": 11,
   "metadata": {},
   "outputs": [
    {
     "name": "stdout",
     "output_type": "stream",
     "text": [
      "5788 1921\n"
     ]
    }
   ],
   "source": [
    "epochs = 3\n",
    "train_samples = train_image_array_gen.n\n",
    "valid_samples = valid_image_array_gen.n\n",
    "print(train_samples, valid_samples)"
   ]
  },
  {
   "cell_type": "code",
   "execution_count": 12,
   "metadata": {},
   "outputs": [],
   "source": [
    "model = Sequential()\n",
    "\n",
    "# first hidden layer\n",
    "model.add(Conv2D(32, (3, 3), padding = \"same\", input_shape = (img_width, img_height, channels)))\n",
    "model.add(Activation('relu'))\n",
    "\n",
    "# second hidden layer\n",
    "model.add(Conv2D(16, (3, 3), padding = \"same\"))\n",
    "model.add(LeakyReLU(alpha = 0.5))\n",
    "model.add(BatchNormalization())\n",
    "\n",
    "# max pooling\n",
    "model.add(MaxPooling2D(pool_size = (2,2)))\n",
    "model.add(Dropout(0.25))\n",
    "\n",
    "# Flatten max filtered output into feature vector \n",
    "# and feed into dense layer\n",
    "model.add(Flatten())\n",
    "model.add(Dense(512))\n",
    "model.add(Activation('relu'))\n",
    "model.add(Dropout(0.5))\n",
    "\n",
    "# Outputs from dense layer are projected onto output layer\n",
    "model.add(Dense(output_n))\n",
    "model.add(Activation('softmax'))"
   ]
  },
  {
   "cell_type": "code",
   "execution_count": 13,
   "metadata": {},
   "outputs": [
    {
     "name": "stdout",
     "output_type": "stream",
     "text": [
      "_________________________________________________________________\n",
      "Layer (type)                 Output Shape              Param #   \n",
      "=================================================================\n",
      "conv2d_1 (Conv2D)            (None, 20, 20, 32)        896       \n",
      "_________________________________________________________________\n",
      "activation_1 (Activation)    (None, 20, 20, 32)        0         \n",
      "_________________________________________________________________\n",
      "conv2d_2 (Conv2D)            (None, 20, 20, 16)        4624      \n",
      "_________________________________________________________________\n",
      "leaky_re_lu_1 (LeakyReLU)    (None, 20, 20, 16)        0         \n",
      "_________________________________________________________________\n",
      "batch_normalization_1 (Batch (None, 20, 20, 16)        64        \n",
      "_________________________________________________________________\n",
      "max_pooling2d_1 (MaxPooling2 (None, 10, 10, 16)        0         \n",
      "_________________________________________________________________\n",
      "dropout_1 (Dropout)          (None, 10, 10, 16)        0         \n",
      "_________________________________________________________________\n",
      "flatten_1 (Flatten)          (None, 1600)              0         \n",
      "_________________________________________________________________\n",
      "dense_1 (Dense)              (None, 512)               819712    \n",
      "_________________________________________________________________\n",
      "activation_2 (Activation)    (None, 512)               0         \n",
      "_________________________________________________________________\n",
      "dropout_2 (Dropout)          (None, 512)               0         \n",
      "_________________________________________________________________\n",
      "dense_2 (Dense)              (None, 16)                8208      \n",
      "_________________________________________________________________\n",
      "activation_3 (Activation)    (None, 16)                0         \n",
      "=================================================================\n",
      "Total params: 833,504\n",
      "Trainable params: 833,472\n",
      "Non-trainable params: 32\n",
      "_________________________________________________________________\n",
      "None\n"
     ]
    }
   ],
   "source": [
    "print(model.summary())"
   ]
  },
  {
   "cell_type": "code",
   "execution_count": 14,
   "metadata": {},
   "outputs": [],
   "source": [
    "model.compile(loss = 'categorical_crossentropy', \n",
    "              optimizer = RMSprop(lr = 0.0001, decay = 1e-6),\n",
    "              metrics = ['accuracy'])"
   ]
  },
  {
   "cell_type": "code",
   "execution_count": 15,
   "metadata": {},
   "outputs": [
    {
     "name": "stdout",
     "output_type": "stream",
     "text": [
      "Epoch 1/3\n",
      "180/180 [==============================] - 15s 84ms/step - loss: 1.2744 - acc: 0.5998 - val_loss: 0.2346 - val_acc: 0.9437\n",
      "Epoch 2/3\n",
      "180/180 [==============================] - 16s 89ms/step - loss: 0.3081 - acc: 0.9049 - val_loss: 0.0732 - val_acc: 0.9788\n",
      "Epoch 3/3\n",
      "180/180 [==============================] - 16s 87ms/step - loss: 0.1086 - acc: 0.9701 - val_loss: 0.0239 - val_acc: 0.9968\n"
     ]
    }
   ],
   "source": [
    "history = model.fit_generator(\n",
    "    train_image_array_gen,\n",
    "    steps_per_epoch = int(train_samples / batch_size), \n",
    "    epochs = epochs, \n",
    "    validation_data = valid_image_array_gen,\n",
    "    validation_steps = int(valid_samples / batch_size),\n",
    "    verbose = 1\n",
    ")"
   ]
  },
  {
   "cell_type": "code",
   "execution_count": 16,
   "metadata": {},
   "outputs": [
    {
     "name": "stdout",
     "output_type": "stream",
     "text": [
      "dict_keys(['val_loss', 'val_acc', 'loss', 'acc'])\n"
     ]
    }
   ],
   "source": [
    "# list all data in history\n",
    "print(history.history.keys())"
   ]
  },
  {
   "cell_type": "code",
   "execution_count": 17,
   "metadata": {},
   "outputs": [
    {
     "data": {
      "image/png": "[encoded data removed]",
      "text/plain": [
       "<Figure size 432x288 with 1 Axes>"
      ]
     },
     "metadata": {
      "needs_background": "light"
     },
     "output_type": "display_data"
    }
   ],
   "source": [
    "# summarize history for accuracy\n",
    "plt.plot(history.history['acc'])\n",
    "plt.plot(history.history['val_acc'])\n",
    "plt.title('model accuracy')\n",
    "plt.ylabel('accuracy')\n",
    "plt.xlabel('epoch')\n",
    "plt.legend(['train', 'validation'], loc = 'lower right')\n",
    "plt.show()"
   ]
  },
  {
   "cell_type": "code",
   "execution_count": 18,
   "metadata": {},
   "outputs": [
    {
     "data": {
      "image/png": "[encoded data removed]",
      "text/plain": [
       "<Figure size 432x288 with 1 Axes>"
      ]
     },
     "metadata": {
      "needs_background": "light"
     },
     "output_type": "display_data"
    }
   ],
   "source": [
    "# summarize history for loss\n",
    "plt.plot(history.history['loss'])\n",
    "plt.plot(history.history['val_loss'])\n",
    "plt.title('model loss')\n",
    "plt.ylabel('loss')\n",
    "plt.xlabel('epoch')\n",
    "plt.legend(['train', 'validation'], loc = 'upper right')\n",
    "plt.show()"
   ]
  },
  {
   "cell_type": "markdown",
   "metadata": {},
   "source": [
    "### Predict test data"
   ]
  },
  {
   "cell_type": "code",
   "execution_count": 22,
   "metadata": {},
   "outputs": [
    {
     "name": "stdout",
     "output_type": "stream",
     "text": [
      "Found 2428 images belonging to 16 classes.\n"
     ]
    }
   ],
   "source": [
    "test_data_gen = ImageDataGenerator(\n",
    "    rescale = 1 / 255\n",
    ")\n",
    "\n",
    "test_image_array_gen = test_data_gen.flow_from_directory(\n",
    "    test_image_files_path,\n",
    "    target_size = (img_width, img_height),\n",
    "    class_mode = 'categorical',\n",
    "    classes = fruit_list,\n",
    "    color_mode = 'rgb', \n",
    "    batch_size = batch_size,\n",
    "    seed = 42)"
   ]
  },
  {
   "cell_type": "code",
   "execution_count": 23,
   "metadata": {},
   "outputs": [
    {
     "data": {
      "text/plain": [
       "[0.02476482456550002, 0.9966666666666667]"
      ]
     },
     "execution_count": 23,
     "metadata": {},
     "output_type": "execute_result"
    }
   ],
   "source": [
    "model.evaluate_generator(test_image_array_gen,\n",
    "                        steps = int(test_image_array_gen.n / batch_size))"
   ]
  },
  {
   "cell_type": "code",
   "execution_count": 28,
   "metadata": {},
   "outputs": [
    {
     "data": {
      "text/plain": [
       "{'Apricot': 0,\n",
       " 'Avocado': 1,\n",
       " 'Banana': 2,\n",
       " 'Clementine': 3,\n",
       " 'Cocos': 4,\n",
       " 'Kiwi': 5,\n",
       " 'Lemon': 6,\n",
       " 'Limes': 7,\n",
       " 'Mandarine': 8,\n",
       " 'Orange': 9,\n",
       " 'Peach': 10,\n",
       " 'Pineapple': 11,\n",
       " 'Plum': 12,\n",
       " 'Pomegranate': 13,\n",
       " 'Raspberry': 14,\n",
       " 'Strawberry': 15}"
      ]
     },
     "execution_count": 28,
     "metadata": {},
     "output_type": "execute_result"
    }
   ],
   "source": [
    "classes = train_image_array_gen.class_indices\n",
    "classes"
   ]
  },
  {
   "cell_type": "code",
   "execution_count": 25,
   "metadata": {},
   "outputs": [],
   "source": [
    "probabilities = model.predict_generator(test_image_array_gen,\n",
    "                        steps = int(test_image_array_gen.n / batch_size))"
   ]
  },
  {
   "cell_type": "code",
   "execution_count": 30,
   "metadata": {},
   "outputs": [
    {
     "data": {
      "text/html": [
       "<div>\n",
       "<style scoped>\n",
       "    .dataframe tbody tr th:only-of-type {\n",
       "        vertical-align: middle;\n",
       "    }\n",
       "\n",
       "    .dataframe tbody tr th {\n",
       "        vertical-align: top;\n",
       "    }\n",
       "\n",
       "    .dataframe thead th {\n",
       "        text-align: right;\n",
       "    }\n",
       "</style>\n",
       "<table border=\"1\" class=\"dataframe\">\n",
       "  <thead>\n",
       "    <tr style=\"text-align: right;\">\n",
       "      <th></th>\n",
       "      <th>Apricot</th>\n",
       "      <th>Avocado</th>\n",
       "      <th>Banana</th>\n",
       "      <th>Clementine</th>\n",
       "      <th>Cocos</th>\n",
       "      <th>Kiwi</th>\n",
       "      <th>Lemon</th>\n",
       "      <th>Limes</th>\n",
       "      <th>Mandarine</th>\n",
       "      <th>Orange</th>\n",
       "      <th>Peach</th>\n",
       "      <th>Pineapple</th>\n",
       "      <th>Plum</th>\n",
       "      <th>Pomegranate</th>\n",
       "      <th>Raspberry</th>\n",
       "      <th>Strawberry</th>\n",
       "    </tr>\n",
       "  </thead>\n",
       "  <tbody>\n",
       "    <tr>\n",
       "      <th>0</th>\n",
       "      <td>4.527672e-04</td>\n",
       "      <td>5.256943e-08</td>\n",
       "      <td>4.610685e-10</td>\n",
       "      <td>2.581750e-06</td>\n",
       "      <td>5.655822e-11</td>\n",
       "      <td>9.437300e-10</td>\n",
       "      <td>9.243621e-09</td>\n",
       "      <td>1.675675e-08</td>\n",
       "      <td>1.834728e-05</td>\n",
       "      <td>9.995235e-01</td>\n",
       "      <td>2.567592e-06</td>\n",
       "      <td>5.233740e-09</td>\n",
       "      <td>2.750165e-09</td>\n",
       "      <td>1.208880e-07</td>\n",
       "      <td>4.236185e-11</td>\n",
       "      <td>2.677752e-08</td>\n",
       "    </tr>\n",
       "    <tr>\n",
       "      <th>1</th>\n",
       "      <td>4.945129e-04</td>\n",
       "      <td>1.727043e-04</td>\n",
       "      <td>1.092953e-06</td>\n",
       "      <td>1.139143e-05</td>\n",
       "      <td>1.325198e-01</td>\n",
       "      <td>2.487883e-04</td>\n",
       "      <td>3.991447e-07</td>\n",
       "      <td>3.675733e-09</td>\n",
       "      <td>1.343524e-06</td>\n",
       "      <td>1.101868e-08</td>\n",
       "      <td>6.870331e-04</td>\n",
       "      <td>5.362410e-04</td>\n",
       "      <td>1.053132e-03</td>\n",
       "      <td>8.626947e-01</td>\n",
       "      <td>1.025848e-03</td>\n",
       "      <td>5.529911e-04</td>\n",
       "    </tr>\n",
       "    <tr>\n",
       "      <th>2</th>\n",
       "      <td>2.379128e-12</td>\n",
       "      <td>5.791904e-11</td>\n",
       "      <td>3.814140e-08</td>\n",
       "      <td>5.170514e-11</td>\n",
       "      <td>3.418185e-04</td>\n",
       "      <td>1.593160e-12</td>\n",
       "      <td>8.145572e-14</td>\n",
       "      <td>2.099053e-12</td>\n",
       "      <td>5.593135e-14</td>\n",
       "      <td>9.120172e-14</td>\n",
       "      <td>2.038749e-11</td>\n",
       "      <td>9.931455e-07</td>\n",
       "      <td>4.082842e-06</td>\n",
       "      <td>6.809479e-06</td>\n",
       "      <td>9.996462e-01</td>\n",
       "      <td>2.771229e-09</td>\n",
       "    </tr>\n",
       "    <tr>\n",
       "      <th>3</th>\n",
       "      <td>1.686732e-08</td>\n",
       "      <td>2.445047e-05</td>\n",
       "      <td>3.140443e-07</td>\n",
       "      <td>1.250319e-07</td>\n",
       "      <td>9.994320e-01</td>\n",
       "      <td>2.685694e-04</td>\n",
       "      <td>3.700973e-08</td>\n",
       "      <td>4.294974e-07</td>\n",
       "      <td>1.124311e-08</td>\n",
       "      <td>7.371485e-09</td>\n",
       "      <td>3.397043e-06</td>\n",
       "      <td>2.708951e-05</td>\n",
       "      <td>6.669878e-05</td>\n",
       "      <td>1.067764e-04</td>\n",
       "      <td>6.532998e-05</td>\n",
       "      <td>4.723339e-06</td>\n",
       "    </tr>\n",
       "    <tr>\n",
       "      <th>4</th>\n",
       "      <td>2.833195e-08</td>\n",
       "      <td>5.365014e-07</td>\n",
       "      <td>5.747203e-04</td>\n",
       "      <td>1.580370e-08</td>\n",
       "      <td>1.244895e-05</td>\n",
       "      <td>1.282763e-03</td>\n",
       "      <td>4.996937e-03</td>\n",
       "      <td>9.930249e-01</td>\n",
       "      <td>4.705088e-06</td>\n",
       "      <td>1.343488e-06</td>\n",
       "      <td>6.997451e-07</td>\n",
       "      <td>8.102329e-05</td>\n",
       "      <td>6.011319e-08</td>\n",
       "      <td>4.541945e-08</td>\n",
       "      <td>1.213218e-07</td>\n",
       "      <td>1.960034e-05</td>\n",
       "    </tr>\n",
       "  </tbody>\n",
       "</table>\n",
       "</div>"
      ],
      "text/plain": [
       "        Apricot       Avocado        Banana    Clementine         Cocos  \\\n",
       "0  4.527672e-04  5.256943e-08  4.610685e-10  2.581750e-06  5.655822e-11   \n",
       "1  4.945129e-04  1.727043e-04  1.092953e-06  1.139143e-05  1.325198e-01   \n",
       "2  2.379128e-12  5.791904e-11  3.814140e-08  5.170514e-11  3.418185e-04   \n",
       "3  1.686732e-08  2.445047e-05  3.140443e-07  1.250319e-07  9.994320e-01   \n",
       "4  2.833195e-08  5.365014e-07  5.747203e-04  1.580370e-08  1.244895e-05   \n",
       "\n",
       "           Kiwi         Lemon         Limes     Mandarine        Orange  \\\n",
       "0  9.437300e-10  9.243621e-09  1.675675e-08  1.834728e-05  9.995235e-01   \n",
       "1  2.487883e-04  3.991447e-07  3.675733e-09  1.343524e-06  1.101868e-08   \n",
       "2  1.593160e-12  8.145572e-14  2.099053e-12  5.593135e-14  9.120172e-14   \n",
       "3  2.685694e-04  3.700973e-08  4.294974e-07  1.124311e-08  7.371485e-09   \n",
       "4  1.282763e-03  4.996937e-03  9.930249e-01  4.705088e-06  1.343488e-06   \n",
       "\n",
       "          Peach     Pineapple          Plum   Pomegranate     Raspberry  \\\n",
       "0  2.567592e-06  5.233740e-09  2.750165e-09  1.208880e-07  4.236185e-11   \n",
       "1  6.870331e-04  5.362410e-04  1.053132e-03  8.626947e-01  1.025848e-03   \n",
       "2  2.038749e-11  9.931455e-07  4.082842e-06  6.809479e-06  9.996462e-01   \n",
       "3  3.397043e-06  2.708951e-05  6.669878e-05  1.067764e-04  6.532998e-05   \n",
       "4  6.997451e-07  8.102329e-05  6.011319e-08  4.541945e-08  1.213218e-07   \n",
       "\n",
       "     Strawberry  \n",
       "0  2.677752e-08  \n",
       "1  5.529911e-04  \n",
       "2  2.771229e-09  \n",
       "3  4.723339e-06  \n",
       "4  1.960034e-05  "
      ]
     },
     "execution_count": 30,
     "metadata": {},
     "output_type": "execute_result"
    }
   ],
   "source": [
    "prob_df = pd.DataFrame(probabilities, columns = classes)\n",
    "prob_df.head()"
   ]
  }
 ],
 "metadata": {
  "kernelspec": {
   "display_name": "Python 3",
   "language": "python",
   "name": "python3"
  },
  "language_info": {
   "codemirror_mode": {
    "name": "ipython",
    "version": 3
   },
   "file_extension": ".py",
   "mimetype": "text/x-python",
   "name": "python",
   "nbconvert_exporter": "python",
   "pygments_lexer": "ipython3",
   "version": "3.6.8"
  }
 },
 "nbformat": 4,
 "nbformat_minor": 2
}
