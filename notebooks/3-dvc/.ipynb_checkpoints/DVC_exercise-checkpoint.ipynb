{
 "cells": [
  {
   "cell_type": "markdown",
   "metadata": {},
   "source": [
    "# Lightweight pipelines with DVC"
   ]
  },
  {
   "cell_type": "markdown",
   "metadata": {},
   "source": [
    "We will build a small pipeline with DVC in order to get started. The task is to classify images into either *lemons* or *bananas*.\n",
    "\n",
    "The pipelines consists of 2 python functions:\n",
    "\n",
    "1. preprocess(inputpath, outputpath), that processes images (convert to grayscale, resize to (100, 100))\n",
    "1. classify(inputpath, outputpath), that classifies images and write the results into a JSON-File\n",
    "\n",
    "Write the 2 functions and wrap a pipeline around them using DVC.\n",
    "\n",
    "The best approach is to create a python file and implement the functions. Googles \"fire\" is an easy approach to invoke preprocess and classify.\n",
    "\n",
    "Install fire:\n",
    "!pip install fire\n",
    "\n",
    "Use fire:\n",
    "\n",
    "```python\n",
    "import fire\n",
    "\n",
    "...\n",
    "...\n",
    "...\n",
    "\n",
    "if __name__ == '__main__':\n",
    "  fire.Fire()\n",
    "```\n",
    "\n",
    "Invoke function with fire:\n",
    "\n",
    "```bash\n",
    "python <your file>.py preprocess exercise-dataset-dvc/image.jpg output/preprocessed.jpg\n",
    "```\n",
    "\n",
    "You can use the \"%%sh\" shell-magic to run shell commands in a cell. "
   ]
  },
  {
   "cell_type": "markdown",
   "metadata": {},
   "source": [
    "## Testing the functions"
   ]
  },
  {
   "cell_type": "code",
   "execution_count": 43,
   "metadata": {},
   "outputs": [],
   "source": [
    "%%sh \n",
    "python DVC_exercise.py preprocess exercise-dataset-dvc/image.jpg output-exercise/test-processed.jpg"
   ]
  },
  {
   "cell_type": "code",
   "execution_count": 44,
   "metadata": {},
   "outputs": [],
   "source": [
    "%%sh \n",
    "python DVC_exercise.py classify output-exercise/test-processed.jpg output-exercise/test-result.json"
   ]
  },
  {
   "cell_type": "markdown",
   "metadata": {},
   "source": [
    "## Initialize DVC"
   ]
  },
  {
   "cell_type": "code",
   "execution_count": 45,
   "metadata": {},
   "outputs": [
    {
     "name": "stdout",
     "output_type": "stream",
     "text": [
      "\u001b[31m+---------------------------------------------------------------------+\n",
      "\u001b[39m\u001b[31m|\u001b[39m                                                                     \u001b[31m|\u001b[39m\n",
      "\u001b[31m|\u001b[39m        DVC has enabled anonymous aggregate usage analytics.         \u001b[31m|\u001b[39m\n",
      "\u001b[31m|\u001b[39m     Read the analytics documentation (and how to opt-out) here:     \u001b[31m|\u001b[39m\n",
      "\u001b[31m|\u001b[39m              \u001b[34mhttps://dvc.org/doc/user-guide/analytics\u001b[39m               \u001b[31m|\u001b[39m\n",
      "\u001b[31m|\u001b[39m                                                                     \u001b[31m|\u001b[39m\n",
      "\u001b[31m+---------------------------------------------------------------------+\n",
      "\u001b[39m\n",
      "\u001b[33mWhat's next?\u001b[39m\n",
      "\u001b[33m------------\u001b[39m\n",
      "- Check out the documentation: \u001b[34mhttps://dvc.org/doc\u001b[39m\n",
      "- Get help and share ideas: \u001b[34mhttps://dvc.org/chat\u001b[39m\n",
      "- Star us on GitHub: \u001b[34mhttps://github.com/iterative/dvc\u001b[39m\n",
      "\u001b[0m"
     ]
    }
   ],
   "source": [
    "!dvc init -f --no-scm"
   ]
  },
  {
   "cell_type": "markdown",
   "metadata": {},
   "source": [
    "## Invoke the functions"
   ]
  },
  {
   "cell_type": "code",
   "execution_count": null,
   "metadata": {},
   "outputs": [],
   "source": []
  },
  {
   "cell_type": "code",
   "execution_count": null,
   "metadata": {},
   "outputs": [],
   "source": []
  },
  {
   "cell_type": "markdown",
   "metadata": {},
   "source": [
    "## Look at the pipeline"
   ]
  },
  {
   "cell_type": "code",
   "execution_count": 50,
   "metadata": {},
   "outputs": [
    {
     "name": "stdout",
     "output_type": "stream",
     "text": [
      "usage: dvc pipeline [-h] [-q | -v] {show,list} ...\n",
      "\n",
      "Manage pipeline.\n",
      "\n",
      "positional arguments:\n",
      "  {show,list}    Use dvc pipeline CMD --help for command-specific help.\n",
      "    show         Show pipeline.\n",
      "    list         List pipelines.\n",
      "\n",
      "optional arguments:\n",
      "  -h, --help     show this help message and exit\n",
      "  -q, --quiet    Be quiet.\n",
      "  -v, --verbose  Be verbose.\n"
     ]
    }
   ],
   "source": [
    "%%sh\n",
    "dvc pipeline -h"
   ]
  }
 ],
 "metadata": {
  "kernelspec": {
   "display_name": "Python 3",
   "language": "python",
   "name": "python3"
  },
  "language_info": {
   "codemirror_mode": {
    "name": "ipython",
    "version": 3
   },
   "file_extension": ".py",
   "mimetype": "text/x-python",
   "name": "python",
   "nbconvert_exporter": "python",
   "pygments_lexer": "ipython3",
   "version": "3.6.8"
  }
 },
 "nbformat": 4,
 "nbformat_minor": 2
}
