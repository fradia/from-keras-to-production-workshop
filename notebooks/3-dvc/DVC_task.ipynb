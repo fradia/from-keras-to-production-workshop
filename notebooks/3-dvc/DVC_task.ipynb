{
 "cells": [
  {
   "cell_type": "markdown",
   "metadata": {},
   "source": [
    "## From interactive programming to production ready code"
   ]
  },
  {
   "cell_type": "markdown",
   "metadata": {},
   "source": [
    "## Initialize DVC"
   ]
  },
  {
   "cell_type": "code",
   "execution_count": 64,
   "metadata": {},
   "outputs": [
    {
     "name": "stdout",
     "output_type": "stream",
     "text": [
      "\u001b[31m+---------------------------------------------------------------------+\n",
      "\u001b[39m\u001b[31m|\u001b[39m                                                                     \u001b[31m|\u001b[39m\n",
      "\u001b[31m|\u001b[39m        DVC has enabled anonymous aggregate usage analytics.         \u001b[31m|\u001b[39m\n",
      "\u001b[31m|\u001b[39m     Read the analytics documentation (and how to opt-out) here:     \u001b[31m|\u001b[39m\n",
      "\u001b[31m|\u001b[39m              \u001b[34mhttps://dvc.org/doc/user-guide/analytics\u001b[39m               \u001b[31m|\u001b[39m\n",
      "\u001b[31m|\u001b[39m                                                                     \u001b[31m|\u001b[39m\n",
      "\u001b[31m+---------------------------------------------------------------------+\n",
      "\u001b[39m\n",
      "\u001b[33mWhat's next?\u001b[39m\n",
      "\u001b[33m------------\u001b[39m\n",
      "- Check out the documentation: \u001b[34mhttps://dvc.org/doc\u001b[39m\n",
      "- Get help and share ideas: \u001b[34mhttps://dvc.org/chat\u001b[39m\n",
      "- Star us on GitHub: \u001b[34mhttps://github.com/iterative/dvc\u001b[39m\n",
      "\u001b[0m"
     ]
    }
   ],
   "source": [
    "!dvc init -f --no-scm"
   ]
  },
  {
   "cell_type": "markdown",
   "metadata": {},
   "source": [
    "## Invoke the functions"
   ]
  },
  {
   "cell_type": "markdown",
   "metadata": {},
   "source": [
    "### Create config"
   ]
  },
  {
   "cell_type": "code",
   "execution_count": 65,
   "metadata": {},
   "outputs": [
    {
     "name": "stdout",
     "output_type": "stream",
     "text": [
      "Running command:\n",
      "\tpython3 DVC_task.py configure output-task/config.pickle\n",
      "Output 'output-task/config.pickle' doesn't use cache. Skipping saving.\n",
      "Saving information to 'config.pickle.dvc'.\n",
      "\n",
      "To track the changes with git run:\n",
      "\n",
      "\tgit add config.pickle.dvc\n"
     ]
    },
    {
     "name": "stderr",
     "output_type": "stream",
     "text": [
      "Using TensorFlow backend.\n"
     ]
    }
   ],
   "source": [
    "%%sh \n",
    "dvc run -d DVC_task.py \\\n",
    "        -O output-task/config.pickle \\\n",
    "        python3 DVC_task.py configure output-task/config.pickle"
   ]
  },
  {
   "cell_type": "markdown",
   "metadata": {},
   "source": [
    "### Train the model"
   ]
  },
  {
   "cell_type": "code",
   "execution_count": 66,
   "metadata": {},
   "outputs": [
    {
     "name": "stdout",
     "output_type": "stream",
     "text": [
      "Running command:\n",
      "\tpython3 DVC_task.py train_model ../../fruits output-task/config.pickle output-task/model.h5\n",
      "Found 7709 images belonging to 16 classes.\n",
      "Computing md5 for a large directory ../../fruits/Training/Kiwi. This is only done once.\n",
      "[##############################] 100% ../../fruits/Training/Kiwi\n",
      "Computing md5 for a large directory ../../fruits/Training/Plum. This is only done once.\n",
      "[##############################] 100% ../../fruits/Training/Plum\n",
      "Computing md5 for a large directory ../../fruits/Training/Pineapple. This is only done once.\n",
      "[##############################] 100% ../../fruits/Training/Pineapple\n",
      "Computing md5 for a large directory ../../fruits/Training/Strawberry. This is only done once.\n",
      "[##############################] 100% ../../fruits/Training/Strawberry\n",
      "Computing md5 for a large directory ../../fruits/Training/Pomegranate. This is only done once.\n",
      "[##############################] 100% ../../fruits/Training/Pomegranate\n",
      "Computing md5 for a large directory ../../fruits/Training/Raspberry. This is only done once.\n",
      "[##############################] 100% ../../fruits/Training/Raspberry\n",
      "Computing md5 for a large directory ../../fruits/Training/Avocado. This is only done once.\n",
      "[##############################] 100% ../../fruits/Training/Avocado\n",
      "Computing md5 for a large directory ../../fruits/Training/Cocos. This is only done once.\n",
      "[##############################] 100% ../../fruits/Training/Cocos\n",
      "Computing md5 for a large directory ../../fruits/Training/Mandarine. This is only done once.\n",
      "[##############################] 100% ../../fruits/Training/Mandarine\n",
      "Computing md5 for a large directory ../../fruits/Training/Lemon. This is only done once.\n",
      "[##############################] 100% ../../fruits/Training/Lemon\n",
      "Computing md5 for a large directory ../../fruits/Training/Limes. This is only done once.\n",
      "[##############################] 100% ../../fruits/Training/Limes\n",
      "Computing md5 for a large directory ../../fruits/Training/Clementine. This is only done once.\n",
      "[##############################] 100% ../../fruits/Training/Clementine\n",
      "Computing md5 for a large directory ../../fruits/Training/Apricot. This is only done once.\n",
      "[##############################] 100% ../../fruits/Training/Apricot\n",
      "Computing md5 for a large directory ../../fruits/Training/Peach. This is only done once.\n",
      "[##############################] 100% ../../fruits/Training/Peach\n",
      "Computing md5 for a large directory ../../fruits/Training/Banana. This is only done once.\n",
      "[##############################] 100% ../../fruits/Training/Banana\n",
      "Computing md5 for a large directory ../../fruits/Training/Orange. This is only done once.\n",
      "[##############################] 100% ../../fruits/Training/Orange\n",
      "Computing md5 for a large directory ../../fruits/Test/Kiwi. This is only done once.\n",
      "[##############################] 100% ../../fruits/Test/Kiwi\n",
      "Computing md5 for a large directory ../../fruits/Test/Plum. This is only done once.\n",
      "[##############################] 100% ../../fruits/Test/Plum\n",
      "Computing md5 for a large directory ../../fruits/Test/Pineapple. This is only done once.\n",
      "[##############################] 100% ../../fruits/Test/Pineapple\n",
      "Computing md5 for a large directory ../../fruits/Test/Strawberry. This is only done once.\n",
      "[##############################] 100% ../../fruits/Test/Strawberry\n",
      "Computing md5 for a large directory ../../fruits/Test/Pomegranate. This is only done once.\n",
      "[##############################] 100% ../../fruits/Test/Pomegranate\n",
      "Computing md5 for a large directory ../../fruits/Test/Raspberry. This is only done once.\n",
      "[##############################] 100% ../../fruits/Test/Raspberry\n",
      "Computing md5 for a large directory ../../fruits/Test/Avocado. This is only done once.\n",
      "[##############################] 100% ../../fruits/Test/Avocado\n",
      "Computing md5 for a large directory ../../fruits/Test/Cocos. This is only done once.\n",
      "[##############################] 100% ../../fruits/Test/Cocos\n",
      "Computing md5 for a large directory ../../fruits/Test/Mandarine. This is only done once.\n",
      "[##############################] 100% ../../fruits/Test/Mandarine\n",
      "Computing md5 for a large directory ../../fruits/Test/Lemon. This is only done once.\n",
      "[##############################] 100% ../../fruits/Test/Lemon\n",
      "Computing md5 for a large directory ../../fruits/Test/Limes. This is only done once.\n",
      "[##############################] 100% ../../fruits/Test/Limes\n",
      "Computing md5 for a large directory ../../fruits/Test/Clementine. This is only done once.\n",
      "[##############################] 100% ../../fruits/Test/Clementine\n",
      "Computing md5 for a large directory ../../fruits/Test/Apricot. This is only done once.\n",
      "[##############################] 100% ../../fruits/Test/Apricot\n",
      "Computing md5 for a large directory ../../fruits/Test/Banana. This is only done once.\n",
      "[##############################] 100% ../../fruits/Test/Banana\n",
      "Computing md5 for a large directory ../../fruits/Test/Orange. This is only done once.\n",
      "[##############################] 100% ../../fruits/Test/Orange\n",
      "Output 'output-task/model.h5' doesn't use cache. Skipping saving.\n",
      "Saving information to 'model.h5.dvc'.\n",
      "\n",
      "To track the changes with git run:\n",
      "\n",
      "\tgit add model.h5.dvc\n"
     ]
    },
    {
     "name": "stderr",
     "output_type": "stream",
     "text": [
      "2019-02-22 01:22:40.744964: I tensorflow/core/platform/cpu_feature_guard.cc:141] Your CPU supports instructions that this TensorFlow binary was not compiled to use: AVX2 FMA\n",
      "Using TensorFlow backend.\n"
     ]
    }
   ],
   "source": [
    "%%sh \n",
    "dvc run -d DVC_task.py \\\n",
    "        -d output-task/config.pickle \\\n",
    "        -d ../../fruits \\\n",
    "        -O output-task/model.h5 \\\n",
    "        python3 DVC_task.py train_model ../../fruits output-task/config.pickle output-task/model.h5"
   ]
  },
  {
   "cell_type": "markdown",
   "metadata": {},
   "source": [
    "### Export as a frozen graph"
   ]
  },
  {
   "cell_type": "code",
   "execution_count": 67,
   "metadata": {},
   "outputs": [
    {
     "name": "stdout",
     "output_type": "stream",
     "text": [
      "Running command:\n",
      "\tpython3 DVC_task.py export output-task/model.h5 ../6-models/fruits/2\n",
      "Output '../6-models/fruits/2' doesn't use cache. Skipping saving.\n",
      "Saving information to '2.dvc'.\n",
      "\n",
      "To track the changes with git run:\n",
      "\n",
      "\tgit add 2.dvc\n"
     ]
    },
    {
     "name": "stderr",
     "output_type": "stream",
     "text": [
      "2019-02-22 01:23:20.285437: I tensorflow/core/platform/cpu_feature_guard.cc:141] Your CPU supports instructions that this TensorFlow binary was not compiled to use: AVX2 FMA\n",
      "Using TensorFlow backend.\n"
     ]
    }
   ],
   "source": [
    "%%sh \n",
    "dvc run -d DVC_task.py \\\n",
    "        -d output-task/model.h5 \\\n",
    "        -O ../6-models/fruits/2 \\\n",
    "        python3 DVC_task.py export output-task/model.h5 ../6-models/fruits/2"
   ]
  },
  {
   "cell_type": "markdown",
   "metadata": {},
   "source": [
    "### Reproduce"
   ]
  },
  {
   "cell_type": "code",
   "execution_count": 72,
   "metadata": {},
   "outputs": [
    {
     "name": "stdout",
     "output_type": "stream",
     "text": [
      "                  +---------------------------------------------------------+                    \n",
      "                  | python3 DVC_task.py configure output-task/config.pickle |                    \n",
      "                  +---------------------------------------------------------+                    \n",
      "                                                *                                                \n",
      "                                                *                                                \n",
      "                                                *                                                \n",
      "+---------------------------------------------------------------------------------------------+  \n",
      "| python3 DVC_task.py train_model ../../fruits output-task/config.pickle output-task/model.h5 |  \n",
      "+---------------------------------------------------------------------------------------------+  \n",
      "                                                *                                                \n",
      "                                                *                                                \n",
      "                                                *                                                \n",
      "            +----------------------------------------------------------------------+             \n",
      "            | python3 DVC_task.py export output-task/model.h5 ../6-models/fruits/2 |             \n",
      "            +----------------------------------------------------------------------+             \n"
     ]
    }
   ],
   "source": [
    "%%sh \n",
    "dvc pipeline show 2.dvc --ascii --commands"
   ]
  },
  {
   "cell_type": "code",
   "execution_count": 68,
   "metadata": {},
   "outputs": [
    {
     "name": "stdout",
     "output_type": "stream",
     "text": [
      "\u001b[32mStage 'config.pickle.dvc' didn't change.\u001b[39m\n",
      "\u001b[32mStage 'model.h5.dvc' didn't change.\u001b[39m\n",
      "\u001b[32mStage '2.dvc' didn't change.\u001b[39m\n",
      "Pipeline is up to date. Nothing to reproduce.\n"
     ]
    }
   ],
   "source": [
    "%%sh \n",
    "dvc repro 2.dvc"
   ]
  }
 ],
 "metadata": {
  "kernelspec": {
   "display_name": "Python 3",
   "language": "python",
   "name": "python3"
  },
  "language_info": {
   "codemirror_mode": {
    "name": "ipython",
    "version": 3
   },
   "file_extension": ".py",
   "mimetype": "text/x-python",
   "name": "python",
   "nbconvert_exporter": "python",
   "pygments_lexer": "ipython3",
   "version": "3.6.8"
  }
 },
 "nbformat": 4,
 "nbformat_minor": 2
}
