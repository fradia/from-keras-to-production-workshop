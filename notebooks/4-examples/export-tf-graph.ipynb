{
 "cells": [
  {
   "cell_type": "markdown",
   "metadata": {},
   "source": [
    "# Fruits CNN Export"
   ]
  },
  {
   "cell_type": "code",
   "execution_count": 1,
   "metadata": {
    "scrolled": true
   },
   "outputs": [
    {
     "name": "stderr",
     "output_type": "stream",
     "text": [
      "Using TensorFlow backend.\n"
     ]
    }
   ],
   "source": [
    "import tensorflow as tf\n",
    "import keras\n",
    "from tensorflow.python.saved_model import signature_constants\n",
    "from tensorflow.python.saved_model import tag_constants\n",
    "from tensorflow.python.saved_model import builder\n",
    "import os"
   ]
  },
  {
   "cell_type": "markdown",
   "metadata": {},
   "source": [
    "## Load the model with Keras"
   ]
  },
  {
   "cell_type": "code",
   "execution_count": 2,
   "metadata": {},
   "outputs": [],
   "source": [
    "fruits_cnn = keras.models.load_model('../fruits.h5')"
   ]
  },
  {
   "cell_type": "markdown",
   "metadata": {},
   "source": [
    "## Build the fruits-cnn signature"
   ]
  },
  {
   "cell_type": "code",
   "execution_count": 3,
   "metadata": {},
   "outputs": [],
   "source": [
    "tensor_info_input = tf.saved_model.utils.build_tensor_info(fruits_cnn.input) #gives a protobuf file with the structure of the input (fruits_cnn.input=input layer)\n",
    "tensor_info_output = tf.saved_model.utils.build_tensor_info(fruits_cnn.output) #gives a protobuf file with the structure of the output (fruits_cnn.output=output layer)\n",
    "prediction_signature = (\n",
    "    tf.saved_model.signature_def_utils.build_signature_def(\n",
    "        inputs={'input': tensor_info_input},\n",
    "        outputs={'prediction': tensor_info_output},\n",
    "        method_name=signature_constants.PREDICT_METHOD_NAME)\n",
    ")"
   ]
  },
  {
   "cell_type": "markdown",
   "metadata": {},
   "source": [
    "## Export the model for TensorFlow-Serving"
   ]
  },
  {
   "cell_type": "code",
   "execution_count": 4,
   "metadata": {},
   "outputs": [
    {
     "name": "stdout",
     "output_type": "stream",
     "text": [
      "INFO:tensorflow:No assets to save.\n",
      "INFO:tensorflow:No assets to write.\n",
      "INFO:tensorflow:SavedModel written to: ../6-models/fruits/4/saved_model.pb\n"
     ]
    }
   ],
   "source": [
    "model_version = \"4\"\n",
    "export_path = os.path.join(\"../6-models/fruits\", model_version)\n",
    "tf_builder = builder.SavedModelBuilder(export_path)\n",
    "with keras.backend.get_session() as sess:\n",
    "    tf_builder.add_meta_graph_and_variables(\n",
    "        sess=sess,\n",
    "        tags=[tag_constants.SERVING],\n",
    "        signature_def_map={\n",
    "            signature_constants.DEFAULT_SERVING_SIGNATURE_DEF_KEY: prediction_signature\n",
    "            }\n",
    "    )\n",
    "    tf_builder.save()"
   ]
  },
  {
   "cell_type": "code",
   "execution_count": null,
   "metadata": {},
   "outputs": [],
   "source": []
  }
 ],
 "metadata": {
  "kernelspec": {
   "display_name": "Python 3",
   "language": "python",
   "name": "python3"
  },
  "language_info": {
   "codemirror_mode": {
    "name": "ipython",
    "version": 3
   },
   "file_extension": ".py",
   "mimetype": "text/x-python",
   "name": "python",
   "nbconvert_exporter": "python",
   "pygments_lexer": "ipython3",
   "version": "3.6.8"
  }
 },
 "nbformat": 4,
 "nbformat_minor": 2
}
