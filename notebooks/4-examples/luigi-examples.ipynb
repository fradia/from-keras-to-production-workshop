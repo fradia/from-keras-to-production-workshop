{
 "cells": [
  {
   "cell_type": "markdown",
   "metadata": {},
   "source": [
    "## From interactive programming to production ready code"
   ]
  },
  {
   "cell_type": "markdown",
   "metadata": {},
   "source": [
    "### Imports"
   ]
  },
  {
   "cell_type": "code",
   "execution_count": 4,
   "metadata": {},
   "outputs": [],
   "source": [
    "from luigi.parameter import IntParameter, DateParameter\n",
    "from luigi import LocalTarget, Task\n",
    "from luigi.contrib.external_program import ExternalProgramTask\n",
    "from luigi.contrib.spark import PySparkTask"
   ]
  },
  {
   "cell_type": "markdown",
   "metadata": {},
   "source": [
    "## A sample task"
   ]
  },
  {
   "cell_type": "code",
   "execution_count": 3,
   "metadata": {},
   "outputs": [],
   "source": [
    "from luigi import Task, LocalTarget, Parameter\n",
    "class Beispiel(Task):\n",
    "    parameter1 = Parameter(default=\"Test 1\")\n",
    "    parameter2 = Parameter(default=\"Test 2\")\n",
    "\n",
    "    def requires(self):\n",
    "        return EinAndererTask(self.parameter2)\n",
    "\n",
    "    def output(self):\n",
    "        return LocalTarget(\"/tmp/test.checkpoint\")\n",
    "\n",
    "    def run(self):\n",
    "        with self.output().open('w') as f:\n",
    "            f.write(self.parameter1)"
   ]
  },
  {
   "cell_type": "markdown",
   "metadata": {},
   "source": [
    "## Downloading a dataset using *ExternalProgramTask* and curl"
   ]
  },
  {
   "cell_type": "code",
   "execution_count": 6,
   "metadata": {},
   "outputs": [],
   "source": [
    "class DownloadDataset(ExternalProgramTask):\n",
    "\n",
    "    dataset_version = IntParameter(default=1)\n",
    "    dataset_name = Parameter(default=\"dataset\")\n",
    "\n",
    "    base_url = \"http://plainpixels.work/resources/datasets\"\n",
    "    file_fomat = \"zip\"\n",
    "\n",
    "    def output(self):\n",
    "        return LocalTarget(\"/tmp/%s_v%d.%s\" % (self.dataset_name,\n",
    "                                               self.dataset_version,\n",
    "                                               self.file_fomat))\n",
    "\n",
    "    def program_args(self):\n",
    "        url = \"%s/%s_v%d.%s\" % (self.base_url, \n",
    "                                self.dataset_name, \n",
    "                                self.dataset_version,\n",
    "                                self.file_fomat)\n",
    "        return [\"curl\", \"-L\",\n",
    "                \"-o\", self.output().path,\n",
    "                url]"
   ]
  },
  {
   "cell_type": "markdown",
   "metadata": {},
   "source": [
    "# Extracting a dataset using *ExternalProgramTask*"
   ]
  },
  {
   "cell_type": "code",
   "execution_count": 5,
   "metadata": {},
   "outputs": [],
   "source": [
    "class ExtractDataset(ExternalProgramTask):\n",
    "    \n",
    "    dataset_version = IntParameter(default=1)\n",
    "    dataset_name = Parameter(default=\"dataset\")\n",
    "    \n",
    "    def requires(self):\n",
    "        return DownloadDataset(self.dataset_version, self.dataset_name)\n",
    "\n",
    "    def output(self):\n",
    "        return LocalTarget(\"datasets/fruit-images-dataset/%d\" % self.dataset_version)\n",
    "\n",
    "    def program_args(self):\n",
    "        self.output().makedirs()\n",
    "        return [\"unzip\", \"-u\", \"-q\",\n",
    "                \"-d\", self.output().path,\n",
    "                self.input().path]"
   ]
  },
  {
   "cell_type": "markdown",
   "metadata": {},
   "source": [
    "## A PySpark Task"
   ]
  },
  {
   "cell_type": "markdown",
   "metadata": {},
   "source": [
    "Luigi supports a variety of Big Data technologies, like PySpark. The **PySparkTask** allows us to implement the PySpark code directly inside the task and provides a lot of options to configure the acquired ressources."
   ]
  },
  {
   "cell_type": "markdown",
   "metadata": {},
   "source": [
    "Also we see a new parameter type - the **DateParameter**. That makes Luigi to a very powerfull data ingestion tool.\n",
    "\n",
    "By calling\n",
    "```bash\n",
    "luigi --module 01_classification_pipeline RangeDailyBase --of Classify \\\n",
    "                                                         --stop=$(date +\"%Y-%m-%d\") \\\n",
    "                                                         --days-back 4 \\\n",
    "                                                         --Classify-version 1 \\\n",
    "                                                         --reverse\n",
    "```\n",
    "we can utilize the **RangeDailyBase** wrapperclass. Executing the line above would execute the **Classify** task 4 times, for the last 4 days until today. This is a perfect tool to run unstable imports.\n"
   ]
  },
  {
   "cell_type": "code",
   "execution_count": 8,
   "metadata": {},
   "outputs": [],
   "source": [
    "class Classify(PySparkTask):\n",
    "    from datetime import date\n",
    "\n",
    "    date = DateParameter(default=date.today())\n",
    "    version = IntParameter(default=1)\n",
    "\n",
    "    # PySpark Parameter\n",
    "    driver_memory = '1g'\n",
    "    executor_memory = '2g'\n",
    "    executor_cores = '2'\n",
    "    num_executors = '4'\n",
    "    master = 'local'\n",
    "\n",
    "    def requires(self):\n",
    "        return [ModelExists(self.version), Clean(self.date)]\n",
    "\n",
    "    def output(self):\n",
    "        prefix = self.date.strftime(\"%m-%d-%Y\")\n",
    "        return LocalTarget(\"daily/%s/ergebnis.csv\" % prefix)\n",
    "\n",
    "    def main(self, sc, *args):\n",
    "        from pyspark.sql.session import SparkSession\n",
    "        sql = SparkSession.builder.getOrCreate()\n",
    "        \n",
    "        df = sql.read.format(\"com.databricks.spark.csv\") \\\n",
    "                     .option(\"delimiter\", \";\") \\\n",
    "                     .option(\"header\", \"true\") \\\n",
    "                     .load(self.input()[1].path)\n",
    "        \n",
    "        # Load model and run classification...\n",
    "        \n",
    "        with self.output().open(\"w\") as out:\n",
    "            # Never do this...\n",
    "            ergebnis.toPandas().to_csv(out,\n",
    "                                       encoding='utf-8',\n",
    "                                       index=False,\n",
    "                                       sep=';')"
   ]
  }
 ],
 "metadata": {
  "kernelspec": {
   "display_name": "Python 3",
   "language": "python",
   "name": "python3"
  },
  "language_info": {
   "codemirror_mode": {
    "name": "ipython",
    "version": 3
   },
   "file_extension": ".py",
   "mimetype": "text/x-python",
   "name": "python",
   "nbconvert_exporter": "python",
   "pygments_lexer": "ipython3",
   "version": "3.6.8"
  }
 },
 "nbformat": 4,
 "nbformat_minor": 2
}
